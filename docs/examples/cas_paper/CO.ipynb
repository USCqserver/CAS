{
 "cells": [
  {
   "cell_type": "code",
   "execution_count": 2,
   "metadata": {},
   "outputs": [],
   "source": [
    "import numpy as np\n",
    "import scipy as sc\n",
    "import matplotlib.pyplot as plt\n",
    "import cas as cas\n",
    "import importlib\n",
    "import pickle"
   ]
  },
  {
   "cell_type": "markdown",
   "metadata": {},
   "source": [
    "## Coherent Oscillations"
   ]
  },
  {
   "cell_type": "code",
   "execution_count": 3,
   "metadata": {},
   "outputs": [],
   "source": [
    "i_c = 230; c_shunt = 50; c_z = 4.4; lq = 480; alpha = 0.4; d = 0.0\n",
    "qubit = cas.CSFQ(i_c, c_shunt, c_z, lq, alpha, d, 5, 10, 10)"
   ]
  },
  {
   "cell_type": "markdown",
   "metadata": {},
   "source": [
    "### Gaussian progression"
   ]
  },
  {
   "cell_type": "code",
   "execution_count": 5,
   "metadata": {},
   "outputs": [
    {
     "name": "stdout",
     "output_type": "stream",
     "text": [
      "t_coh =  3.0 ns\n",
      "t_ad =  19.098593171027442 ns\n"
     ]
    }
   ],
   "source": [
    "from scipy.special import erf\n",
    "\n",
    "pts=100\n",
    "s_g = np.linspace(0, 1, pts)\n",
    "\n",
    "Omega=0.25*2*np.pi; # This is in units of GHz\n",
    "alpha = 30; mu = 1/3\n",
    "theta = np.pi/8*(2 + erf(alpha*(s_g+mu-1/2))\n",
    "                 + erf(alpha*(s_g-mu-1/2)))\n",
    "\n",
    "x_cutsom_g = Omega*np.cos(theta)\n",
    "z_custom_g = Omega*np.sin(theta)\n",
    "\n",
    "print(\"t_coh = \", np.pi/(2*Omega*mu), \"ns\")\n",
    "print(\"t_ad = \", alpha/(Omega), \"ns\")"
   ]
  },
  {
   "cell_type": "code",
   "execution_count": 6,
   "metadata": {},
   "outputs": [
    {
     "name": "stdout",
     "output_type": "stream",
     "text": [
      "point #89 single qubit residuals: \n",
      " [-3.98938987e-02  1.14708408e-05] \n",
      "\n",
      "schedule point 91 / 100\u001b[1K\r"
     ]
    },
    {
     "name": "stderr",
     "output_type": "stream",
     "text": [
      "/home/mostafa/Dropbox/Research/FluQS/codes/quack/quack/schedule/one_qubit.py:622: UserWarning: For the point #89, solver found solutions that are not optimal. The relative error is 2.54 % for single qubit residuals\n",
      "  ).format(i, rel_error * 100)\n"
     ]
    },
    {
     "name": "stdout",
     "output_type": "stream",
     "text": [
      "point #90 single qubit residuals: \n",
      " [-7.94940539e-02  1.38229231e-05] \n",
      "\n",
      "schedule point 92 / 100\u001b[1K\r"
     ]
    },
    {
     "name": "stderr",
     "output_type": "stream",
     "text": [
      "/home/mostafa/Dropbox/Research/FluQS/codes/quack/quack/schedule/one_qubit.py:622: UserWarning: For the point #90, solver found solutions that are not optimal. The relative error is 5.06 % for single qubit residuals\n",
      "  ).format(i, rel_error * 100)\n"
     ]
    },
    {
     "name": "stdout",
     "output_type": "stream",
     "text": [
      "point #91 single qubit residuals: \n",
      " [-8.96906661e-02  1.68198942e-05] \n",
      "\n",
      "schedule point 93 / 100\u001b[1K\r"
     ]
    },
    {
     "name": "stderr",
     "output_type": "stream",
     "text": [
      "/home/mostafa/Dropbox/Research/FluQS/codes/quack/quack/schedule/one_qubit.py:622: UserWarning: For the point #91, solver found solutions that are not optimal. The relative error is 5.71 % for single qubit residuals\n",
      "  ).format(i, rel_error * 100)\n"
     ]
    },
    {
     "name": "stdout",
     "output_type": "stream",
     "text": [
      "point #92 single qubit residuals: \n",
      " [-9.18805128e-02  1.49303955e-05] \n",
      "\n",
      "schedule point 94 / 100\u001b[1K\r"
     ]
    },
    {
     "name": "stderr",
     "output_type": "stream",
     "text": [
      "/home/mostafa/Dropbox/Research/FluQS/codes/quack/quack/schedule/one_qubit.py:622: UserWarning: For the point #92, solver found solutions that are not optimal. The relative error is 5.85 % for single qubit residuals\n",
      "  ).format(i, rel_error * 100)\n"
     ]
    },
    {
     "name": "stdout",
     "output_type": "stream",
     "text": [
      "point #93 single qubit residuals: \n",
      " [-9.22728650e-02  1.62412963e-05] \n",
      "\n",
      "schedule point 95 / 100\u001b[1K\r"
     ]
    },
    {
     "name": "stderr",
     "output_type": "stream",
     "text": [
      "/home/mostafa/Dropbox/Research/FluQS/codes/quack/quack/schedule/one_qubit.py:622: UserWarning: For the point #93, solver found solutions that are not optimal. The relative error is 5.87 % for single qubit residuals\n",
      "  ).format(i, rel_error * 100)\n"
     ]
    },
    {
     "name": "stdout",
     "output_type": "stream",
     "text": [
      "point #94 single qubit residuals: \n",
      " [-9.23315092e-02  7.45426176e-06] \n",
      "\n",
      "schedule point 96 / 100\u001b[1K\r"
     ]
    },
    {
     "name": "stderr",
     "output_type": "stream",
     "text": [
      "/home/mostafa/Dropbox/Research/FluQS/codes/quack/quack/schedule/one_qubit.py:622: UserWarning: For the point #94, solver found solutions that are not optimal. The relative error is 5.88 % for single qubit residuals\n",
      "  ).format(i, rel_error * 100)\n"
     ]
    },
    {
     "name": "stdout",
     "output_type": "stream",
     "text": [
      "point #95 single qubit residuals: \n",
      " [-9.23388201e-02  9.86819629e-06] \n",
      "\n",
      "schedule point 97 / 100\u001b[1K\r"
     ]
    },
    {
     "name": "stderr",
     "output_type": "stream",
     "text": [
      "/home/mostafa/Dropbox/Research/FluQS/codes/quack/quack/schedule/one_qubit.py:622: UserWarning: For the point #95, solver found solutions that are not optimal. The relative error is 5.88 % for single qubit residuals\n",
      "  ).format(i, rel_error * 100)\n"
     ]
    },
    {
     "name": "stdout",
     "output_type": "stream",
     "text": [
      "point #96 single qubit residuals: \n",
      " [-9.23395836e-02 -8.36590316e-06] \n",
      "\n",
      "schedule point 98 / 100\u001b[1K\r"
     ]
    },
    {
     "name": "stderr",
     "output_type": "stream",
     "text": [
      "/home/mostafa/Dropbox/Research/FluQS/codes/quack/quack/schedule/one_qubit.py:622: UserWarning: For the point #96, solver found solutions that are not optimal. The relative error is 5.88 % for single qubit residuals\n",
      "  ).format(i, rel_error * 100)\n"
     ]
    },
    {
     "name": "stdout",
     "output_type": "stream",
     "text": [
      "point #97 single qubit residuals: \n",
      " [-9.23396395e-02  4.86664620e-05] \n",
      "\n",
      "schedule point 99 / 100\u001b[1K\r"
     ]
    },
    {
     "name": "stderr",
     "output_type": "stream",
     "text": [
      "/home/mostafa/Dropbox/Research/FluQS/codes/quack/quack/schedule/one_qubit.py:622: UserWarning: For the point #97, solver found solutions that are not optimal. The relative error is 5.88 % for single qubit residuals\n",
      "  ).format(i, rel_error * 100)\n"
     ]
    },
    {
     "name": "stdout",
     "output_type": "stream",
     "text": [
      "point #98 single qubit residuals: \n",
      " [-9.23396501e-02  1.56267230e-05] \n",
      "\n",
      "schedule point 100 / 100\u001b[1K\r"
     ]
    },
    {
     "name": "stderr",
     "output_type": "stream",
     "text": [
      "/home/mostafa/Dropbox/Research/FluQS/codes/quack/quack/schedule/one_qubit.py:622: UserWarning: For the point #98, solver found solutions that are not optimal. The relative error is 5.88 % for single qubit residuals\n",
      "  ).format(i, rel_error * 100)\n"
     ]
    },
    {
     "name": "stdout",
     "output_type": "stream",
     "text": [
      "point #99 single qubit residuals: \n",
      " [-9.23396508e-02  1.28576382e-05] \n",
      "\n",
      "CPU times: user 25min 13s, sys: 26min 17s, total: 51min 30s\n",
      "Wall time: 4min 22s\n"
     ]
    },
    {
     "name": "stderr",
     "output_type": "stream",
     "text": [
      "/home/mostafa/Dropbox/Research/FluQS/codes/quack/quack/schedule/one_qubit.py:622: UserWarning: For the point #99, solver found solutions that are not optimal. The relative error is 5.88 % for single qubit residuals\n",
      "  ).format(i, rel_error * 100)\n"
     ]
    }
   ],
   "source": [
    "%%time\n",
    "\n",
    "phix_custom_g, phiz_custom_g = qubit.get_fluxes(x_cutsom_g, z_custom_g, optimizer_method=\"leastsq\", verbose=True)"
   ]
  },
  {
   "cell_type": "code",
   "execution_count": 24,
   "metadata": {},
   "outputs": [],
   "source": [
    "# with open('./data/circuit_DQA.pkl', 'wb') as file:\n",
    "#     pickle.dump(circuit, file)"
   ]
  },
  {
   "cell_type": "code",
   "execution_count": 8,
   "metadata": {},
   "outputs": [
    {
     "name": "stdout",
     "output_type": "stream",
     "text": [
      "CPU times: user 1min 31s, sys: 1min 36s, total: 3min 7s\n",
      "Wall time: 16 s\n"
     ]
    }
   ],
   "source": [
    "%%time\n",
    "\n",
    "x_g, z_g = np.zeros((2, len(s_g)))\n",
    "for i, (phix, phiz) in enumerate(zip(phix_custom_g, phiz_custom_g)):\n",
    "    x_g[i], z_g[i] = qubit.get_ising(phix, phiz)[0]"
   ]
  },
  {
   "cell_type": "markdown",
   "metadata": {},
   "source": [
    "### Polynomial"
   ]
  },
  {
   "cell_type": "code",
   "execution_count": 9,
   "metadata": {},
   "outputs": [
    {
     "name": "stdout",
     "output_type": "stream",
     "text": [
      "t_coh =  2.9940119760479043 ns\n",
      "t_ad =  23.952095808383234 ns\n"
     ]
    }
   ],
   "source": [
    "pts=100\n",
    "s_p = np.linspace(0, 1, pts)\n",
    "\n",
    "h=0.167*2*np.pi; # This is in units of GHz\n",
    "p=8\n",
    "\n",
    "x_cutsom_p = h*(1-(2*s_p-1)**p)\n",
    "z_custom_p = h*(1-2*s_p)**p\n",
    "\n",
    "print(\"t_coh = \", np.pi/(h), \"ns\")\n",
    "print(\"t_ad = \", p*np.pi/(h), \"ns\")"
   ]
  },
  {
   "cell_type": "code",
   "execution_count": 10,
   "metadata": {},
   "outputs": [
    {
     "name": "stdout",
     "output_type": "stream",
     "text": [
      "point #0 single qubit residuals: \n",
      " [-0.09226361  0.0001026 ] \n",
      "\n",
      "schedule point 2 / 100\u001b[1K\r"
     ]
    },
    {
     "name": "stderr",
     "output_type": "stream",
     "text": [
      "/home/mostafa/Dropbox/Research/FluQS/codes/quack/quack/schedule/one_qubit.py:622: UserWarning: For the point #0, solver found solutions that are not optimal. The relative error is 8.79 % for single qubit residuals\n",
      "  ).format(i, rel_error * 100)\n"
     ]
    },
    {
     "name": "stdout",
     "output_type": "stream",
     "text": [
      "point #99 single qubit residuals: \n",
      " [-9.22636210e-02  4.77029387e-06] \n",
      "\n",
      "CPU times: user 19min 49s, sys: 20min 30s, total: 40min 20s\n",
      "Wall time: 3min 25s\n"
     ]
    },
    {
     "name": "stderr",
     "output_type": "stream",
     "text": [
      "/home/mostafa/Dropbox/Research/FluQS/codes/quack/quack/schedule/one_qubit.py:622: UserWarning: For the point #99, solver found solutions that are not optimal. The relative error is 8.79 % for single qubit residuals\n",
      "  ).format(i, rel_error * 100)\n"
     ]
    }
   ],
   "source": [
    "%%time\n",
    "\n",
    "phix_custom_p, phiz_custom_p = qubit.get_fluxes(x_cutsom_p, z_custom_p, optimizer_method=\"leastsq\", verbose=True)"
   ]
  },
  {
   "cell_type": "code",
   "execution_count": 11,
   "metadata": {},
   "outputs": [
    {
     "name": "stdout",
     "output_type": "stream",
     "text": [
      "CPU times: user 1min 27s, sys: 1min 30s, total: 2min 58s\n",
      "Wall time: 15.2 s\n"
     ]
    }
   ],
   "source": [
    "%%time\n",
    "\n",
    "x_p, z_p = np.zeros((2, len(s_p)))\n",
    "for i, (phix, phiz) in enumerate(zip(phix_custom_p, phiz_custom_p)):\n",
    "    x_p[i], z_p[i] = qubit.get_ising(phix, phiz)[0]"
   ]
  },
  {
   "cell_type": "markdown",
   "metadata": {},
   "source": [
    "### import time evolutions"
   ]
  },
  {
   "cell_type": "code",
   "execution_count": 18,
   "metadata": {},
   "outputs": [],
   "source": [
    "tf_list = np.linspace(0.1, 40, 400)\n",
    "pops_p = np.loadtxt('./data/pops_poly.csv', delimiter=',')[:, 0]\n",
    "pops_g = np.loadtxt('./data/pops_gauss.csv', delimiter=',')[:, 0]"
   ]
  },
  {
   "cell_type": "markdown",
   "metadata": {},
   "source": [
    "### Plot all"
   ]
  },
  {
   "cell_type": "code",
   "execution_count": 40,
   "metadata": {},
   "outputs": [
    {
     "data": {
      "image/png": "[encoded data removed]",
      "text/plain": [
       "<Figure size 468x468 with 8 Axes>"
      ]
     },
     "metadata": {
      "needs_background": "light"
     },
     "output_type": "display_data"
    }
   ],
   "source": [
    "##### PLOTING #####\n",
    "plt.clf()\n",
    "\n",
    "fig = plt.figure(num=1);\n",
    "fig.set_size_inches((6.5, 6.5))\n",
    "\n",
    "ax11 = plt.subplot(321)\n",
    "ax11.plot(s_g, phix_custom_g/2/np.pi, 'b')\n",
    "ax11.tick_params(axis='y', labelcolor='b')\n",
    "ax11.set_xlabel(r'$s=t/t_a$')\n",
    "ax11.set_ylabel(r'$\\varphi_x/2\\pi$', color=\"b\")\n",
    "\n",
    "ax12 = ax11.twinx()\n",
    "ax12.plot(s_g, 1000*phiz_custom_g/2/np.pi, 'r')\n",
    "ax12.tick_params(axis='y', labelcolor='r')\n",
    "ax12.set_ylabel(r'$\\varphi_z/2\\pi$ $(\\times 10^3)$', color=\"r\")\n",
    "\n",
    "ax21 = plt.subplot(322)\n",
    "ax21.plot(s_p, phix_custom_p/2/np.pi, 'b')\n",
    "ax21.tick_params(axis='y', labelcolor='b')\n",
    "ax21.set_xlabel(r'$s=t/t_a$')\n",
    "ax21.set_ylabel(r'$\\varphi_x/2\\pi$', color=\"b\")\n",
    "\n",
    "ax22 = ax21.twinx()\n",
    "ax22.plot(s_p, 1000*phiz_custom_p/2/np.pi, 'r')\n",
    "ax22.tick_params(axis='y', labelcolor='r')\n",
    "ax22.set_ylabel(r'$\\varphi_z/2\\pi$ $(\\times 10^3)$', color=\"r\")\n",
    "\n",
    "ax3 = plt.subplot(323)\n",
    "plt.plot(s_g, x_cutsom_g/(2*np.pi), label=r\"$h^x$\", c=\"C0\")\n",
    "plt.plot(s_g, x_g/(2*np.pi), \"--\", c=\"C0\", lw=2.5)\n",
    "plt.plot(s_g, z_custom_g/(2*np.pi), label=r\"$h^z$\", c=\"C1\")\n",
    "plt.plot(s_g, z_g/(2*np.pi), \"--\", c=\"C1\", lw=2.5)\n",
    "\n",
    "plt.xlabel(r\"$s=t/t_a$\"); plt.ylabel(r\"Ising coefficient (GHz)\")\n",
    "plt.legend()\n",
    "\n",
    "ax4 = plt.subplot(324)\n",
    "\n",
    "plt.plot(s_p, x_cutsom_p/(2*np.pi), label=r\"$h^x$\", c=\"C0\")\n",
    "plt.plot(s_p, x_p/(2*np.pi), \"--\", c=\"C0\", lw=2.5)\n",
    "plt.plot(s_p, z_custom_p/(2*np.pi), label=r\"$h^z$\", c=\"C1\")\n",
    "plt.plot(s_p, z_p/(2*np.pi), \"--\", c=\"C1\", lw=2.5)\n",
    "\n",
    "plt.xlabel(r\"$s=t/t_a$\"); plt.ylabel(r\"Ising coefficient (GHz)\")\n",
    "plt.legend()\n",
    "\n",
    "ax5 = plt.subplot(325)\n",
    "\n",
    "plt.plot(tf_list, pops_g, c=\"C0\")\n",
    "plt.xlabel(r\"$t_a$ (ns)\"); plt.ylabel(r\"ground state population\")\n",
    "plt.ylim(-0.03, 1.03)\n",
    "\n",
    "ax6 = plt.subplot(326)\n",
    "\n",
    "plt.plot(tf_list, pops_p, c=\"C0\")\n",
    "plt.xlabel(r\"$t_a$ (ns)\"); plt.ylabel(r\"ground state population\")\n",
    "plt.ylim(-0.03, 1.03)\n",
    "\n",
    "plt.tight_layout()\n",
    "# plt.savefig(\"./plots/CO_schedules_fluxes.pdf\", bbox_inches=\"tight\")\n",
    "plt.show()"
   ]
  }
 ],
 "metadata": {
  "kernelspec": {
   "display_name": "Python 3",
   "language": "python",
   "name": "python3"
  },
  "language_info": {
   "codemirror_mode": {
    "name": "ipython",
    "version": 3
   },
   "file_extension": ".py",
   "mimetype": "text/x-python",
   "name": "python",
   "nbconvert_exporter": "python",
   "pygments_lexer": "ipython3",
   "version": "3.6.9"
  }
 },
 "nbformat": 4,
 "nbformat_minor": 2
}
